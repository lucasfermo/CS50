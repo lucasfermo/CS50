{
 "cells": [
  {
   "cell_type": "code",
   "execution_count": null,
   "metadata": {
    "collapsed": true
   },
   "outputs": [],
   "source": [
    "import math,sys"
   ]
  },
  {
   "cell_type": "code",
   "execution_count": 123,
   "metadata": {},
   "outputs": [],
   "source": [
    "def credit(num):\n",
    "    if len(str(num))==13 and str(num)[0]==\"4\":\n",
    "        cc=\"Visa\"\n",
    "        \n",
    "    elif len(str(num))==15 and str(num)[:2] in [\"51\",\"52\",\"53\",\"54\",\"55\"]:\n",
    "        cc=\"Mastercard\"\n",
    "    \n",
    "    elif len(str(num))==15 and str(num)[:2] in [\"34\",\"37\"]:\n",
    "        cc=\"American Express\"\n",
    "        \n",
    "    digits=[int(j) for j in\"\".join([str(int(i)*2) for i in str(num)[-2::-2]])]\n",
    "    digits=sum(digits)\n",
    "    second=sum([int(i) for i in str(num)[-1::-2]])\n",
    "    print(digits+second)\n",
    "    return cc if (digits+second)%10==0 else \"Not valid card\""
   ]
  },
  {
   "cell_type": "code",
   "execution_count": 125,
   "metadata": {},
   "outputs": [
    {
     "name": "stdout",
     "output_type": "stream",
     "text": [
      "59\n"
     ]
    },
    {
     "data": {
      "text/plain": [
       "'Not valid card'"
      ]
     },
     "execution_count": 125,
     "metadata": {},
     "output_type": "execute_result"
    }
   ],
   "source": [
    "credit(378282246310004)"
   ]
  }
 ],
 "metadata": {
  "kernelspec": {
   "display_name": "Python 3",
   "language": "python",
   "name": "python3"
  },
  "language_info": {
   "codemirror_mode": {
    "name": "ipython",
    "version": 3
   },
   "file_extension": ".py",
   "mimetype": "text/x-python",
   "name": "python",
   "nbconvert_exporter": "python",
   "pygments_lexer": "ipython3",
   "version": "3.6.1"
  }
 },
 "nbformat": 4,
 "nbformat_minor": 2
}
