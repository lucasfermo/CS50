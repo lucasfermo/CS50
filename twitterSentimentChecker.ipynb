{
 "cells": [
  {
   "cell_type": "code",
   "execution_count": 2,
   "metadata": {
    "collapsed": true
   },
   "outputs": [],
   "source": [
    "import math,sys,os\n",
    "import json\n",
    "from twitter import Twitter,OAuth,TwitterHTTPError, TwitterStream"
   ]
  },
  {
   "cell_type": "code",
   "execution_count": 15,
   "metadata": {
    "collapsed": true
   },
   "outputs": [],
   "source": [
    "ACCESS_TOKEN=\"590115105-2Q7v2rTNrzA8aYADqAWDX50xxspkhqo4z8pk14q\"\n",
    "ACCESS_SECRET=\"a0yZyv06B5hDzfdyhYbFdifwHZczWJnRF5G0epnIXQTI\"\n",
    "CONSUMER_KEY=\"xgTvEFd7oAYzbv53gxugyB\"\n",
    "CONSUMER_SECRET=\"sRNvJFudLkkR2azuN7WmWDazFv7xjRpEkFaoWmJxvxysQH0Y\""
   ]
  },
  {
   "cell_type": "code",
   "execution_count": 102,
   "metadata": {},
   "outputs": [],
   "source": [
    "#Authenticate API\n",
    "oauth = OAuth(ACCESS_TOKEN, ACCESS_SECRET, CONSUMER_KEY, CONSUMER_SECRET)\n",
    "\n",
    "twitter=Twitter(auth=oauth)\n",
    "\n",
    "tweets=twitter.search.tweets(q='trump',lang=\"en\",count=100)\n",
    "sample=[c['text'] for c in tweets['statuses']]"
   ]
  },
  {
   "cell_type": "code",
   "execution_count": 86,
   "metadata": {},
   "outputs": [
    {
     "name": "stdout",
     "output_type": "stream",
     "text": [
      "2042\n"
     ]
    }
   ],
   "source": [
    "#Open files containing sentiment file\n",
    "good=open(\"positive.txt\",'r')\n",
    "bad=open(\"negative.txt\",'r')\n",
    "good=good.read().split(\"\\n\")\n",
    "bad=bad.read().split(\"\\n\")\n"
   ]
  },
  {
   "cell_type": "code",
   "execution_count": 94,
   "metadata": {
    "collapsed": true
   },
   "outputs": [],
   "source": [
    "def sentimentChecker(sample):\n",
    "    s=0\n",
    "    for tweet in sample:\n",
    "        pos=0\n",
    "        tmp=tweet.split(\" \")\n",
    "        for i in tmp:\n",
    "            if i in good:\n",
    "                pos+=1\n",
    "            if i in bad:\n",
    "                pos-=1\n",
    "        \n",
    "        if pos>0:\n",
    "            s+=1\n",
    "        elif pos<0:\n",
    "            s-=1\n",
    "    \n",
    "    return s"
   ]
  },
  {
   "cell_type": "code",
   "execution_count": 103,
   "metadata": {},
   "outputs": [
    {
     "data": {
      "text/plain": [
       "-18"
      ]
     },
     "execution_count": 103,
     "metadata": {},
     "output_type": "execute_result"
    }
   ],
   "source": [
    "sentimentChecker(sample)"
   ]
  }
 ],
 "metadata": {
  "kernelspec": {
   "display_name": "Python 3",
   "language": "python",
   "name": "python3"
  },
  "language_info": {
   "codemirror_mode": {
    "name": "ipython",
    "version": 3
   },
   "file_extension": ".py",
   "mimetype": "text/x-python",
   "name": "python",
   "nbconvert_exporter": "python",
   "pygments_lexer": "ipython3",
   "version": "3.6.1"
  }
 },
 "nbformat": 4,
 "nbformat_minor": 2
}
